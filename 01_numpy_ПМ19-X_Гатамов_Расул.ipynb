{
 "cells": [
  {
   "cell_type": "code",
   "execution_count": 8,
   "metadata": {},
   "outputs": [],
   "source": [
    "import numpy as np\n"
   ]
  },
  {
   "cell_type": "markdown",
   "metadata": {},
   "source": [
    "# Numpy"
   ]
  },
  {
   "cell_type": "markdown",
   "metadata": {},
   "source": [
    "Материалы:\n",
    "* Макрушин С.В. \"Лекция 1: Библиотека Numpy\"\n",
    "* https://numpy.org/doc/stable/user/index.html\n",
    "* https://numpy.org/doc/stable/reference/index.html"
   ]
  },
  {
   "cell_type": "markdown",
   "metadata": {},
   "source": [
    "## Задачи для совместного разбора"
   ]
  },
  {
   "cell_type": "markdown",
   "metadata": {},
   "source": [
    "1. Сгенерировать двухмерный массив `arr` размерности (4, 7), состоящий из случайных действительных чисел, равномерно распределенных в диапазоне от 0 до 20. Нормализовать значения массива с помощью преобразования вида  $𝑎𝑥+𝑏$  так, что после нормализации максимальный элемент масcива будет равен 1.0, минимальный 0.0"
   ]
  },
  {
   "cell_type": "code",
   "execution_count": 65,
   "metadata": {},
   "outputs": [
    {
     "data": {
      "text/plain": [
       "array([[ 0.        ,  0.74074074,  1.48148148,  2.22222222,  2.96296296,\n",
       "         3.7037037 ,  4.44444444],\n",
       "       [ 5.18518519,  5.92592593,  6.66666667,  7.40740741,  8.14814815,\n",
       "         8.88888889,  9.62962963],\n",
       "       [10.37037037, 11.11111111, 11.85185185, 12.59259259, 13.33333333,\n",
       "        14.07407407, 14.81481481],\n",
       "       [15.55555556, 16.2962963 , 17.03703704, 17.77777778, 18.51851852,\n",
       "        19.25925926, 20.        ]])"
      ]
     },
     "execution_count": 65,
     "metadata": {},
     "output_type": "execute_result"
    }
   ],
   "source": [
    "arr = np.linspace(0, 20, 28).reshape(4, 7)\n",
    "arr"
   ]
  },
  {
   "cell_type": "markdown",
   "metadata": {},
   "source": [
    "2. Создать матрицу 8 на 10 из случайных целых (используя модуль `numpy.random`) чисел из диапозона от 0 до 10 и найти в ней строку (ее индекс и вывести саму строку), в которой сумма значений минимальна."
   ]
  },
  {
   "cell_type": "code",
   "execution_count": 64,
   "metadata": {},
   "outputs": [
    {
     "data": {
      "text/plain": [
       "(array([[0, 1, 1, 8, 6, 9, 2, 5, 1, 0],\n",
       "        [9, 9, 0, 5, 9, 7, 7, 2, 7, 4],\n",
       "        [1, 7, 7, 9, 6, 8, 9, 2, 6, 1],\n",
       "        [0, 6, 7, 5, 9, 5, 6, 4, 6, 2],\n",
       "        [4, 2, 3, 6, 0, 8, 5, 6, 1, 4],\n",
       "        [0, 4, 8, 9, 5, 1, 8, 9, 3, 8],\n",
       "        [0, 1, 3, 4, 2, 7, 5, 6, 8, 3],\n",
       "        [1, 5, 7, 1, 4, 8, 9, 0, 7, 5]]),\n",
       " array([[0, 1, 1, 8, 6, 9, 2, 5, 1, 0]]),\n",
       " (array([0]),))"
      ]
     },
     "execution_count": 64,
     "metadata": {},
     "output_type": "execute_result"
    }
   ],
   "source": [
    "rnd_arr = np.random.randint(0, 10, size=(8, 10)) \n",
    "i = np.where(np.sum(rnd_arr, axis=1) == min(np.sum(rnd_arr, axis=1)))\n",
    "rnd_arr, rnd_arr[i], i"
   ]
  },
  {
   "cell_type": "markdown",
   "metadata": {},
   "source": [
    "3. Найти евклидово расстояние между двумя одномерными векторами одинаковой размерности."
   ]
  },
  {
   "cell_type": "code",
   "execution_count": 63,
   "metadata": {},
   "outputs": [
    {
     "data": {
      "text/plain": [
       "13.152946437965905"
      ]
     },
     "execution_count": 63,
     "metadata": {},
     "output_type": "execute_result"
    }
   ],
   "source": [
    "a = np.array([0, 0, 0, 13])\n",
    "b = np.array([6, 4, 0, 2])\n",
    "sum((a-b)**2)**0.5"
   ]
  },
  {
   "cell_type": "markdown",
   "metadata": {},
   "source": [
    "4. Решить матричное уравнение `A*X*B=-C` - найти матрицу `X`. Где `A = [[-1, 2, 4], [-3, 1, 2], [-3, 0, 1]]`, `B=[[3, -1], [2, 1]]`, `C=[[7, 21], [11, 8], [8, 4]]`."
   ]
  },
  {
   "cell_type": "code",
   "execution_count": 62,
   "metadata": {},
   "outputs": [
    {
     "data": {
      "text/plain": [
       "matrix([[ 1.00000000e+00,  5.32907052e-16],\n",
       "        [-2.00000000e+00,  1.00000000e+00],\n",
       "        [ 3.00000000e+00, -4.00000000e+00]])"
      ]
     },
     "execution_count": 62,
     "metadata": {},
     "output_type": "execute_result"
    }
   ],
   "source": [
    "A = np.matrix(\n",
    "    [[-1, 2, 4], \n",
    "     [-3, 1, 2], \n",
    "     [-3, 0, 1]])\n",
    "\n",
    "B = np.matrix(\n",
    "    [[3, -1], \n",
    "     [2, 1]])\n",
    "\n",
    "C = np.matrix(\n",
    "    [[7, 21], \n",
    "     [11, 8], \n",
    "     [8, 4]])\n",
    "\n",
    "x = np.linalg.inv(A)*(-C)*np.linalg.inv(B)\n",
    "x"
   ]
  },
  {
   "cell_type": "markdown",
   "metadata": {},
   "source": [
    "## Лабораторная работа №1"
   ]
  },
  {
   "cell_type": "markdown",
   "metadata": {},
   "source": [
    "Замечание: при решении данных задач не подразумевается использования циклов или генераторов Python, если в задании не сказано обратного. Решение должно опираться на использования функционала библиотеки `numpy`."
   ]
  },
  {
   "cell_type": "markdown",
   "metadata": {},
   "source": [
    "1. Файл `minutes_n_ingredients.csv` содержит информацию об идентификаторе рецепта, времени его выполнения в минутах и количестве необходимых ингредиентов. Считайте данные из этого файла в виде массива `numpy` типа `int32`, используя `np.loadtxt`. Выведите на экран первые 5 строк массива."
   ]
  },
  {
   "cell_type": "code",
   "execution_count": 66,
   "metadata": {},
   "outputs": [
    {
     "data": {
      "text/plain": [
       "array([[127244,     60,     16],\n",
       "       [ 23891,     25,      7],\n",
       "       [ 94746,     10,      6],\n",
       "       [ 67660,      5,      6],\n",
       "       [157911,     60,     14]], dtype=int32)"
      ]
     },
     "execution_count": 66,
     "metadata": {},
     "output_type": "execute_result"
    }
   ],
   "source": [
    "a = np.loadtxt('minutes_n_ingredients.csv', dtype=np.int32, delimiter=',', skiprows=1)\n",
    "a[:5, :]"
   ]
  },
  {
   "cell_type": "markdown",
   "metadata": {},
   "source": [
    "2. Вычислите среднее значение, минимум, максимум и медиану по каждому из столбцов, кроме первого."
   ]
  },
  {
   "cell_type": "code",
   "execution_count": 67,
   "metadata": {},
   "outputs": [
    {
     "name": "stdout",
     "output_type": "stream",
     "text": [
      "min = 0 max = 2147483647, mean = 21601.00169, median = 40.0\n",
      "min = 1 max = 39, mean = 9.05528, median = 9.0\n"
     ]
    }
   ],
   "source": [
    "for i in range(1, a.shape[1]):\n",
    "    print(f'min = {a[:, i].min()} max = {a[:, i].max()}, mean = {a[:, i].mean()}, median = {np.median(a[:, i])}')"
   ]
  },
  {
   "cell_type": "markdown",
   "metadata": {},
   "source": [
    "3. Ограничьте сверху значения продолжительности выполнения рецепта значением квантиля $q_{0.75}$. "
   ]
  },
  {
   "cell_type": "code",
   "execution_count": 68,
   "metadata": {},
   "outputs": [
    {
     "name": "stdout",
     "output_type": "stream",
     "text": [
      "65.0\n"
     ]
    },
    {
     "data": {
      "text/plain": [
       "array([[127244,     60,     16],\n",
       "       [ 23891,     25,      7],\n",
       "       [ 94746,     10,      6],\n",
       "       ...,\n",
       "       [498432,     65,     15],\n",
       "       [370915,      5,      4],\n",
       "       [ 81993,     65,     14]], dtype=int32)"
      ]
     },
     "execution_count": 68,
     "metadata": {},
     "output_type": "execute_result"
    }
   ],
   "source": [
    "q = np.quantile(a[:, 1], 0.75)\n",
    "print(q)\n",
    "a[:, 1] = np.where(a[:, 1] > q, q, a[:, 1])\n",
    "a"
   ]
  },
  {
   "cell_type": "markdown",
   "metadata": {},
   "source": [
    "4. Посчитайте, для скольких рецептов указана продолжительность, равная нулю. Замените для таких строк значение в данном столбце на 1."
   ]
  },
  {
   "cell_type": "code",
   "execution_count": 69,
   "metadata": {},
   "outputs": [
    {
     "name": "stdout",
     "output_type": "stream",
     "text": [
      "479\n"
     ]
    },
    {
     "data": {
      "text/plain": [
       "array([[127244,     60,     16],\n",
       "       [ 23891,     25,      7],\n",
       "       [ 94746,     10,      6],\n",
       "       ...,\n",
       "       [498432,     65,     15],\n",
       "       [370915,      5,      4],\n",
       "       [ 81993,     65,     14]], dtype=int32)"
      ]
     },
     "execution_count": 69,
     "metadata": {},
     "output_type": "execute_result"
    }
   ],
   "source": [
    "print(np.count_nonzero(a[:, 1] == 0))\n",
    "a[:, 1] = np.where(a[:, 1] != 0, a[:, 1], 1)\n",
    "a"
   ]
  },
  {
   "cell_type": "markdown",
   "metadata": {},
   "source": [
    "5. Посчитайте, сколько уникальных рецептов находится в датасете."
   ]
  },
  {
   "cell_type": "code",
   "execution_count": 70,
   "metadata": {},
   "outputs": [
    {
     "data": {
      "text/plain": [
       "65"
      ]
     },
     "execution_count": 70,
     "metadata": {},
     "output_type": "execute_result"
    }
   ],
   "source": [
    "len(np.unique(a[:, 1:3]))"
   ]
  },
  {
   "cell_type": "markdown",
   "metadata": {},
   "source": [
    "6. Сколько и каких различных значений кол-ва ингредиентов присутвует в рецептах из датасета?"
   ]
  },
  {
   "cell_type": "code",
   "execution_count": 71,
   "metadata": {},
   "outputs": [
    {
     "data": {
      "text/plain": [
       "(37,\n",
       " array([ 1,  2,  3,  4,  5,  6,  7,  8,  9, 10, 11, 12, 13, 14, 15, 16, 17,\n",
       "        18, 19, 20, 21, 22, 23, 24, 25, 26, 27, 28, 29, 30, 31, 32, 33, 34,\n",
       "        35, 37, 39], dtype=int32))"
      ]
     },
     "execution_count": 71,
     "metadata": {},
     "output_type": "execute_result"
    }
   ],
   "source": [
    "len(np.unique(a[:, 2])), np.unique(a[:, 2])"
   ]
  },
  {
   "cell_type": "markdown",
   "metadata": {},
   "source": [
    "7. Создайте версию массива, содержащую информацию только о рецептах, состоящих не более чем из 5 ингредиентов."
   ]
  },
  {
   "cell_type": "code",
   "execution_count": 72,
   "metadata": {},
   "outputs": [
    {
     "data": {
      "text/plain": [
       "(array([[446597,     15,      5],\n",
       "        [204134,      5,      3],\n",
       "        [ 25623,      6,      4],\n",
       "        ...,\n",
       "        [ 52088,     60,      5],\n",
       "        [128811,     15,      4],\n",
       "        [370915,      5,      4]], dtype=int32),\n",
       " (17262, 3))"
      ]
     },
     "execution_count": 72,
     "metadata": {},
     "output_type": "execute_result"
    }
   ],
   "source": [
    "short_cut = a[np.where(a[:, 2] <= 5)[0]]\n",
    "short_cut, short_cut.shape"
   ]
  },
  {
   "cell_type": "markdown",
   "metadata": {},
   "source": [
    "8. Для каждого рецепта посчитайте, сколько в среднем ингредиентов приходится на одну минуту рецепта. Найдите максимальное значение этой величины для всего датасета"
   ]
  },
  {
   "cell_type": "code",
   "execution_count": 61,
   "metadata": {},
   "outputs": [
    {
     "data": {
      "text/plain": [
       "(24.0,\n",
       " array([0.26666667, 0.28      , 0.6       , ..., 0.23076923, 0.8       ,\n",
       "        0.21538462]))"
      ]
     },
     "execution_count": 61,
     "metadata": {},
     "output_type": "execute_result"
    }
   ],
   "source": [
    "np.max(a[:, 2]/a[:, 1]), a[:, 2]/a[:, 1]"
   ]
  },
  {
   "cell_type": "markdown",
   "metadata": {},
   "source": [
    "9. Вычислите среднее количество ингредиентов для топ-100 рецептов с наибольшей продолжительностью"
   ]
  },
  {
   "cell_type": "code",
   "execution_count": 75,
   "metadata": {},
   "outputs": [
    {
     "data": {
      "text/plain": [
       "9.96"
      ]
     },
     "execution_count": 75,
     "metadata": {},
     "output_type": "execute_result"
    }
   ],
   "source": [
    "sorted_indices = np.argsort(a[:, 1])[-100:]\n",
    "sorted_array = a[sorted_indices]\n",
    "sorted_array[:, 2].mean()"
   ]
  },
  {
   "cell_type": "markdown",
   "metadata": {},
   "source": [
    "10. Выберите случайным образом и выведите информацию о 10 различных рецептах"
   ]
  },
  {
   "cell_type": "code",
   "execution_count": 78,
   "metadata": {},
   "outputs": [
    {
     "data": {
      "text/plain": [
       "array([[233490,     30,     19],\n",
       "       [140003,     55,      4],\n",
       "       [291257,     65,     10],\n",
       "       [ 88890,     65,      9],\n",
       "       [224578,      6,      5],\n",
       "       [194597,     60,     15],\n",
       "       [349684,     25,      6],\n",
       "       [348897,     35,     11],\n",
       "       [399369,     20,      5],\n",
       "       [263815,     55,      7]], dtype=int32)"
      ]
     },
     "execution_count": 78,
     "metadata": {},
     "output_type": "execute_result"
    }
   ],
   "source": [
    "idx = np.random.randint(a.shape[0], size=10)\n",
    "a[idx, :]"
   ]
  },
  {
   "cell_type": "markdown",
   "metadata": {},
   "source": [
    "11. Выведите процент рецептов, кол-во ингредиентов в которых меньше среднего."
   ]
  },
  {
   "cell_type": "code",
   "execution_count": 80,
   "metadata": {},
   "outputs": [
    {
     "data": {
      "text/plain": [
       "'58.802%'"
      ]
     },
     "execution_count": 80,
     "metadata": {},
     "output_type": "execute_result"
    }
   ],
   "source": [
    "str(len(np.where(a[:, 2] < a[:, 2].mean())[0])/a.shape[0]*100) + '%'"
   ]
  },
  {
   "cell_type": "markdown",
   "metadata": {},
   "source": [
    "12. Назовем \"простым\" такой рецепт, длительность выполнения которого не больше 20 минут и кол-во ингредиентов в котором не больше 5. Создайте версию датасета с дополнительным столбцом, значениями которого являются 1, если рецепт простой, и 0 в противном случае."
   ]
  },
  {
   "cell_type": "code",
   "execution_count": 81,
   "metadata": {},
   "outputs": [
    {
     "data": {
      "text/plain": [
       "array([[127244,     60,     16,      0],\n",
       "       [ 23891,     25,      7,      0],\n",
       "       [ 94746,     10,      6,      0],\n",
       "       ...,\n",
       "       [498432,     65,     15,      0],\n",
       "       [370915,      5,      4,      1],\n",
       "       [ 81993,     65,     14,      0]])"
      ]
     },
     "execution_count": 81,
     "metadata": {},
     "output_type": "execute_result"
    }
   ],
   "source": [
    "good_recepts = np.zeros((a.shape[0], 4), dtype=int) \n",
    "good_recepts[:, :3] = a \n",
    "good_recepts[np.where((a[:, 2] <= 5) & (a[:, 1] <= 20)), 3] = 1\n",
    "good_recepts"
   ]
  },
  {
   "cell_type": "markdown",
   "metadata": {},
   "source": [
    "13. Выведите процент \"простых\" рецептов в датасете"
   ]
  },
  {
   "cell_type": "code",
   "execution_count": 83,
   "metadata": {},
   "outputs": [
    {
     "data": {
      "text/plain": [
       "'9.552%'"
      ]
     },
     "execution_count": 83,
     "metadata": {},
     "output_type": "execute_result"
    }
   ],
   "source": [
    " str(sum(good_recepts[:, 3])/a.shape[0]*100) + '%'"
   ]
  },
  {
   "cell_type": "markdown",
   "metadata": {},
   "source": [
    "14. Разделим рецепты на группы по следующему правилу. Назовем рецепты короткими, если их продолжительность составляет менее 10 минут; стандартными, если их продолжительность составляет более 10, но менее 20 минут; и длинными, если их продолжительность составляет не менее 20 минут. Создайте трехмерный массив, где нулевая ось отвечает за номер группы (короткий, стандартный или длинный рецепт), первая ось - за сам рецепт и вторая ось - за характеристики рецепта. Выберите максимальное количество рецептов из каждой группы таким образом, чтобы было возможно сформировать трехмерный массив. Выведите форму полученного массива."
   ]
  },
  {
   "cell_type": "code",
   "execution_count": 84,
   "metadata": {},
   "outputs": [
    {
     "data": {
      "text/plain": [
       "((3, 7588, 3),\n",
       " array([[[ 67660,      5,      6],\n",
       "         [366174,      7,      9],\n",
       "         [204134,      5,      3],\n",
       "         ...,\n",
       "         [420725,      5,      3],\n",
       "         [  4747,      1,      9],\n",
       "         [370915,      5,      4]],\n",
       " \n",
       "        [[ 94746,     10,      6],\n",
       "         [ 33941,     18,      9],\n",
       "         [446597,     15,      5],\n",
       "         ...,\n",
       "         [  9831,     15,      7],\n",
       "         [335859,     12,     14],\n",
       "         [256812,     10,      3]],\n",
       " \n",
       "        [[127244,     60,     16],\n",
       "         [ 23891,     25,      7],\n",
       "         [157911,     60,     14],\n",
       "         ...,\n",
       "         [168901,     25,      7],\n",
       "         [392339,     35,     13],\n",
       "         [206732,     45,     10]]]))"
      ]
     },
     "execution_count": 84,
     "metadata": {},
     "output_type": "execute_result"
    }
   ],
   "source": [
    "short_recipes = a[a[:, 1] < 10]\n",
    "standard_recipes = a[(a[:, 1] >= 10) & (a[:, 1] < 20)]\n",
    "long_recipes = a[a[:, 1] >= 20]\n",
    "\n",
    "max_length = min(len(short_recipes), len(standard_recipes), len(long_recipes))\n",
    "\n",
    "three_dimensional_array = np.zeros((3, max_length, 3), dtype=int)\n",
    "\n",
    "three_dimensional_array[0, :max_length, :] = short_recipes[:max_length]\n",
    "three_dimensional_array[1, :max_length, :] = standard_recipes[:max_length]\n",
    "three_dimensional_array[2, :max_length, :] = long_recipes[:max_length]\n",
    "\n",
    "three_dimensional_array.shape, three_dimensional_array"
   ]
  },
  {
   "cell_type": "code",
   "execution_count": null,
   "metadata": {},
   "outputs": [],
   "source": []
  }
 ],
 "metadata": {
  "kernelspec": {
   "display_name": "Python 3 (ipykernel)",
   "language": "python",
   "name": "python3"
  },
  "language_info": {
   "codemirror_mode": {
    "name": "ipython",
    "version": 3
   },
   "file_extension": ".py",
   "mimetype": "text/x-python",
   "name": "python",
   "nbconvert_exporter": "python",
   "pygments_lexer": "ipython3",
   "version": "3.10.8"
  }
 },
 "nbformat": 4,
 "nbformat_minor": 4
}
